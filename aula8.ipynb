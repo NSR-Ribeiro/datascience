{
 "cells": [
  {
   "cell_type": "code",
   "execution_count": 4,
   "metadata": {},
   "outputs": [
    {
     "name": "stdout",
     "output_type": "stream",
     "text": [
      "0\n",
      "2\n",
      "4\n",
      "6\n",
      "8\n",
      "10\n",
      "12\n",
      "14\n",
      "16\n",
      "18\n",
      "20\n"
     ]
    }
   ],
   "source": [
    "\n",
    "for i in range(0, 21):\n",
    "    if i% 2 == 0:\n",
    "        print(i)\n",
    "    "
   ]
  },
  {
   "cell_type": "code",
   "execution_count": 53,
   "metadata": {},
   "outputs": [
    {
     "name": "stdout",
     "output_type": "stream",
     "text": [
      "                   *\n",
      "                  ***\n",
      "                 *****\n",
      "                *******\n",
      "               *********\n",
      "              ***********\n",
      "             *************\n",
      "            ***************\n",
      "           *****************\n",
      "          *******************\n",
      "         *********************\n",
      "        ***********************\n",
      "       *************************\n",
      "      ***************************\n",
      "     *****************************\n",
      "    *******************************\n",
      "   *********************************\n",
      "  ***********************************\n",
      " *************************************\n",
      "***************************************\n"
     ]
    }
   ],
   "source": [
    "altura = 20\n",
    "espacamento = 0\n",
    "asterisco = 1\n",
    "simbolo = '*'\n",
    "\n",
    "for i in range(altura):\n",
    "    espacamento = altura - i - 1\n",
    "\n",
    "    for j in range(espacamento):\n",
    "        print(' ', end= '')\n",
    "\n",
    "    for k in range(asterisco):\n",
    "        print(simbolo, end='')\n",
    "\n",
    "    print()\n",
    "    asterisco +=2\n"
   ]
  },
  {
   "cell_type": "code",
   "execution_count": 31,
   "metadata": {},
   "outputs": [
    {
     "name": "stdout",
     "output_type": "stream",
     "text": [
      "O primeiro nome da lista é ['gomes', 'pedro', 'paulo', 'jose', 'beltrano'][0]\n",
      "O segundo nome da lista é ['gomes', 'pedro', 'paulo', 'jose', 'beltrano'][1]\n",
      "O terceiro nome da lista é ['gomes', 'pedro', 'paulo', 'jose', 'beltrano'][2]\n",
      "\n",
      "1° colocado: gomes\n",
      "2° colocado: pedro\n",
      "3° colocado: paulo\n",
      "4° colocado: jose\n",
      "5° colocado: beltrano\n"
     ]
    }
   ],
   "source": [
    "lista = ['gomes', 'pedro', 'paulo', 'jose', 'beltrano']\n",
    "\n",
    "print(f'O primeiro nome da lista é {lista}[0]')\n",
    "print(f'O segundo nome da lista é {lista}[1]')\n",
    "print(f'O terceiro nome da lista é {lista}[2]')\n",
    "\n",
    "print()\n",
    "\n",
    "for i in range(len(lista)):\n",
    "    print(f'{i + 1}° colocado: {lista[i]}')\n"
   ]
  },
  {
   "cell_type": "code",
   "execution_count": 23,
   "metadata": {},
   "outputs": [
    {
     "name": "stdout",
     "output_type": "stream",
     "text": [
      "O primeiro nome da lista é n\n",
      "O segundo nome da lista é a\n",
      "O terceiro nome da lista é b\n",
      "\n",
      "1° colocado: n\n",
      "2° colocado: a\n",
      "3° colocado: b\n",
      "4° colocado: p\n",
      "5° colocado: u\n"
     ]
    }
   ],
   "source": [
    "ista = ['gomes', 'pedro', 'paulo', 'jose', 'beltrano']\n",
    "\n",
    "print(f'O primeiro nome da lista é {lista[0]}')\n",
    "print(f'O segundo nome da lista é {lista[1]}')\n",
    "print(f'O terceiro nome da lista é {lista[2]}')\n",
    "\n",
    "print()\n",
    "\n",
    "for i in range(len(lista)):\n",
    "    print(f'{i + 1}° colocado: {lista[i]}')"
   ]
  },
  {
   "cell_type": "code",
   "execution_count": 2,
   "metadata": {},
   "outputs": [
    {
     "ename": "SyntaxError",
     "evalue": "invalid syntax (65668236.py, line 3)",
     "output_type": "error",
     "traceback": [
      "\u001b[1;36m  Cell \u001b[1;32mIn[2], line 3\u001b[1;36m\u001b[0m\n\u001b[1;33m    for num range(1, 11):\u001b[0m\n\u001b[1;37m            ^\u001b[0m\n\u001b[1;31mSyntaxError\u001b[0m\u001b[1;31m:\u001b[0m invalid syntax\n"
     ]
    }
   ],
   "source": [
    "x = int(input('Digite um numero inteiro: '))\n",
    "\n",
    "for num range(1, 11):\n",
    "    print(f'{x} X {num} = {x * num}')"
   ]
  },
  {
   "cell_type": "code",
   "execution_count": 7,
   "metadata": {},
   "outputs": [
    {
     "name": "stdout",
     "output_type": "stream",
     "text": [
      " O premiado da mega da virada é o ribeiro\n",
      "['natan', 'ribeiro', 'santos', 'NSR', 'Natanael']\n"
     ]
    }
   ],
   "source": [
    "import random\n",
    "\n",
    "nome1 = input('Digite um nome:')\n",
    "nome2 = input('Digite um nome:')\n",
    "nome3 = input('Digite um nome:')\n",
    "nome4 = input('Digite um nome:')\n",
    "nome5 = input('Digite um nome:')\n",
    "\n",
    "lista = [nome1, nome2, nome3, nome4, nome5]\n",
    "\n",
    "premiado = random.choice(lista)\n",
    "print(f' O premiado da mega da virada é o {premiado}')\n",
    "print(lista)\n"
   ]
  },
  {
   "cell_type": "code",
   "execution_count": 22,
   "metadata": {},
   "outputs": [
    {
     "name": "stdout",
     "output_type": "stream",
     "text": [
      "O preimiado da vex é o n\n",
      "sistema finalizado!\n",
      "['n', 'a', 'b', 'p', 'u']\n",
      "['n']\n"
     ]
    }
   ],
   "source": [
    "import random\n",
    "import os\n",
    "\n",
    "lista = []\n",
    "lista_sorteados = []\n",
    "\n",
    "while True:\n",
    "    nome = input('Digite os nomes que serão sorteados: ')\n",
    "    if nome != '':\n",
    "        lista.append(nome)\n",
    "    else:\n",
    "        break\n",
    "\n",
    "while True:\n",
    "    if lista:\n",
    "        os.system('cls')\n",
    "        premiado = random.choice(lista)\n",
    "        lista_sorteados.append(premiado)\n",
    "      \n",
    "        print(f'O preimiado da vex é o {premiado}')\n",
    "\n",
    "        opcao = input('Deseja realizar um novo sorteio? (s/n)').lower()\n",
    "        os.system('cls')\n",
    "\n",
    "        if opcao != 's':\n",
    "            break\n",
    "        else:\n",
    "            print('Não existe nomes para serem sorteados!')\n",
    "print('sistema finalizado!')\n",
    "print(lista)\n",
    "print(lista_sorteados)\n",
    "\n",
    "\n",
    "\n",
    "\n",
    "\n",
    "\n",
    "\n",
    "\n",
    "\n"
   ]
  },
  {
   "cell_type": "code",
   "execution_count": 36,
   "metadata": {},
   "outputs": [
    {
     "name": "stdout",
     "output_type": "stream",
     "text": [
      "Bem-Vindo ao Python Games!\n",
      "Você possui 5 tentativas para adivinhar o número secreto entre 1 e 5\n",
      "Tente um número maior!\n",
      "Tente um número maior!\n",
      "Tente um número manor!\n",
      "Parabéns! Você acertou o número secreto 3 em 4 tentativas.\n"
     ]
    }
   ],
   "source": [
    "\n",
    "import random\n",
    "numero_secreto = random.randint(1,5)\n",
    "\n",
    "\n",
    "tentativas = 0\n",
    "max_tentativas = 5\n",
    "acertou = False\n",
    "\n",
    "print('Bem-Vindo ao Python Games!')\n",
    "print(f'Você possui {max_tentativas} tentativas para adivinhar o número secreto entre 1 e 5')\n",
    "\n",
    "while tentativas < max_tentativas:\n",
    "    palpite = int(input('Digite um número inteiro: '))\n",
    "    tentativas +=1\n",
    "\n",
    "    if palpite == numero_secreto:\n",
    "        acertou = True\n",
    "        break\n",
    "    elif palpite < numero_secreto:\n",
    "        print('Tente um número maior!')\n",
    "    else:\n",
    "        print('Tente um número manor!')\n",
    "if acertou:\n",
    "    print(f'Parabéns! Você acertou o número secreto {numero_secreto} em {tentativas} tentativas.')\n",
    "else:\n",
    "    print(f'ops ! suas tentativas acabaram {numero_secreto}')"
   ]
  }
 ],
 "metadata": {
  "kernelspec": {
   "display_name": "Python 3",
   "language": "python",
   "name": "python3"
  },
  "language_info": {
   "codemirror_mode": {
    "name": "ipython",
    "version": 3
   },
   "file_extension": ".py",
   "mimetype": "text/x-python",
   "name": "python",
   "nbconvert_exporter": "python",
   "pygments_lexer": "ipython3",
   "version": "3.12.4"
  }
 },
 "nbformat": 4,
 "nbformat_minor": 2
}
