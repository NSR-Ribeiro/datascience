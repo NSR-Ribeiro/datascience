{
 "cells": [
  {
   "cell_type": "markdown",
   "metadata": {},
   "source": [
    "Revisão POO"
   ]
  },
  {
   "cell_type": "markdown",
   "metadata": {},
   "source": [
    "Cira uma classe que ajude no controle financeiro.\n",
    "Os atributos são:\n",
    "- descrição\n",
    "- valor\n",
    "- categoria"
   ]
  },
  {
   "cell_type": "code",
   "execution_count": 35,
   "metadata": {},
   "outputs": [],
   "source": [
    "class ControleFinanceiro:\n",
    "    # esse é o construtor (função especial)\n",
    "    def __init__(self,descricao,valor,categoria):\n",
    "        self.descricao = descricao\n",
    "        self.valor = valor\n",
    "        self.categoria = categoria\n",
    "\n",
    "    def verificar_valor(self):\n",
    "        if self.valor > 3000:\n",
    "            return \"alerta cartão!!!!\"\n",
    "        else:\n",
    "            return \"faça sua compra!\"\n",
    "\n",
    "\n",
    "\n",
    "    "
   ]
  },
  {
   "cell_type": "code",
   "execution_count": 36,
   "metadata": {},
   "outputs": [
    {
     "name": "stdout",
     "output_type": "stream",
     "text": [
      "resultado:faça sua compra! - categoria:lazer\n"
     ]
    }
   ],
   "source": [
    "cf = ControleFinanceiro(\"cinemark familia\",180.25,\"lazer\")\n",
    "print(f\"resultado:{cf.verificar_valor()} - categoria:{cf.categoria}\")"
   ]
  },
  {
   "cell_type": "markdown",
   "metadata": {},
   "source": [
    "# Desafio\n",
    "\n",
    "- Criar uma classe com o nome Matemática\n",
    "- Criar um construtor com dois atributos com os nomes x,y\n",
    "- Criar um método para somar x e y\n",
    "- Criar um método para dividir x e y\n",
    "- Criar um método para calcular a média aritmética de x e y\n",
    "- Criar um método para calcular a média ponderada com peso 1 e 2"
   ]
  },
  {
   "cell_type": "code",
   "execution_count": 6,
   "metadata": {},
   "outputs": [],
   "source": [
    "class Matematica:\n",
    "    \n",
    "    def __init__(self,x,y):\n",
    "        self.x = x\n",
    "        self.y = y\n",
    "        \n",
    "    def somar(self):\n",
    "        return self.x + self.y\n",
    "    \n",
    "    def dividir(self):\n",
    "        if self.y != 0:\n",
    "            return self.x / self.y\n",
    "   \n",
    "        else:\n",
    "            return \"Erro: divisão por zero\"\n",
    "    def media_aritmetrica(self):\n",
    "         return (self.x + self.y)/2\n",
    "    \n",
    "    def media_poderada(self):\n",
    "         return (self.x * 1 + self.y * 2) / (1+2)\n",
    "    \n",
    "    \n",
    "\n"
   ]
  },
  {
   "cell_type": "code",
   "execution_count": 15,
   "metadata": {},
   "outputs": [
    {
     "data": {
      "text/plain": [
       "35"
      ]
     },
     "execution_count": 15,
     "metadata": {},
     "output_type": "execute_result"
    }
   ],
   "source": [
    "m= Matematica(15,20)\n",
    "m.somar()\n",
    "\n"
   ]
  },
  {
   "cell_type": "code",
   "execution_count": 16,
   "metadata": {},
   "outputs": [
    {
     "data": {
      "text/plain": [
       "0.75"
      ]
     },
     "execution_count": 16,
     "metadata": {},
     "output_type": "execute_result"
    }
   ],
   "source": [
    "m.dividir()"
   ]
  },
  {
   "cell_type": "code",
   "execution_count": 17,
   "metadata": {},
   "outputs": [
    {
     "data": {
      "text/plain": [
       "17.5"
      ]
     },
     "execution_count": 17,
     "metadata": {},
     "output_type": "execute_result"
    }
   ],
   "source": [
    "m.media_aritmetrica()"
   ]
  },
  {
   "cell_type": "code",
   "execution_count": 18,
   "metadata": {},
   "outputs": [
    {
     "data": {
      "text/plain": [
       "18.333333333333332"
      ]
     },
     "execution_count": 18,
     "metadata": {},
     "output_type": "execute_result"
    }
   ],
   "source": [
    "m.media_poderada()"
   ]
  },
  {
   "cell_type": "code",
   "execution_count": 29,
   "metadata": {},
   "outputs": [
    {
     "name": "stdout",
     "output_type": "stream",
     "text": [
      "Escolha a operação desejada:\n",
      "Resultado: 80 / 40 = 2.0\n"
     ]
    }
   ],
   "source": [
    "# Solicita ao usuário para digitar os números\n",
    "digite1 = int(input('Digite o primeiro número: '))\n",
    "digite2 = int(input('Digite o segundo número: '))\n",
    "\n",
    "# Solicita ao usuário para escolher a operação\n",
    "print(\"Escolha a operação desejada:\")\n",
    "print(\"1. Soma\")\n",
    "print(\"2. Divisão\")\n",
    "print(\"3. Média Aritmética\")\n",
    "print(\"4. Média Ponderada\")\n",
    "\n",
    "\n",
    "opcao = input('Digite o número da operação desejada (1/2/3/4): ')\n",
    "\n",
    "# Realiza a operação escolhida\n",
    "if opcao == '1':\n",
    "    resultado = digite1 + digite2\n",
    "    operacao = '+'\n",
    "    print(f'Resultado: {digite1} {operacao} {digite2} = {resultado}')\n",
    "    \n",
    "elif opcao == '2':\n",
    "    if digite2 != 0:\n",
    "        resultado = digite1 / digite2\n",
    "        operacao = '/'\n",
    "        print(f'Resultado: {digite1} {operacao} {digite2} = {resultado}')\n",
    "    else:\n",
    "        print(\"Erro: Divisão por zero não é permitida.\")\n",
    "\n",
    "elif opcao == '3':\n",
    "    resultado = (digite1 + digite2) / 2\n",
    "    print(f'Resultado da média aritmética: ({digite1} + {digite2}) / 2 = {resultado}')\n",
    "\n",
    "elif opcao == '4':\n",
    "    peso1 = float(input('Digite o peso do primeiro número: '))\n",
    "    peso2 = float(input('Digite o peso do segundo número: '))\n",
    "    resultado = (digite1 * peso1 + digite2 * peso2) / (peso1 + peso2)\n",
    "    print(f'Resultado da média ponderada: ({digite1} * {peso1} + {digite2} * {peso2}) / ({peso1} + {peso2}) = {resultado}')\n",
    "\n",
    "else:\n",
    "    print(\"Opção inválida. Por favor, escolha uma operação entre 1 e 4.\")"
   ]
  },
  {
   "cell_type": "markdown",
   "metadata": {},
   "source": [
    "Importar o pandas"
   ]
  },
  {
   "cell_type": "code",
   "execution_count": null,
   "metadata": {},
   "outputs": [],
   "source": []
  }
 ],
 "metadata": {
  "kernelspec": {
   "display_name": ".venv",
   "language": "python",
   "name": "python3"
  },
  "language_info": {
   "codemirror_mode": {
    "name": "ipython",
    "version": 3
   },
   "file_extension": ".py",
   "mimetype": "text/x-python",
   "name": "python",
   "nbconvert_exporter": "python",
   "pygments_lexer": "ipython3",
   "version": "3.12.4"
  }
 },
 "nbformat": 4,
 "nbformat_minor": 2
}
