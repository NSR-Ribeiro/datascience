{
 "cells": [
  {
   "cell_type": "markdown",
   "metadata": {},
   "source": [
    "Lista [ ]   - muda\n",
    "Tupla ( )   - não muda\n",
    "Conjuntos { }\n",
    "dicionários { chave: valor}               exemplo: chave: manga  e valor: tipo e caracteristica\n",
    "\n",
    "\n",
    "\n",
    "\n",
    "Exemplo\n",
    "\n",
    "lista_times = [\"Fla,\"Vasco\",\"Pal\"]  \n",
    "\n",
    "tupla_times = (\"Fla\",\"Vasco\",\"Pal\")\n",
    "\n"
   ]
  },
  {
   "cell_type": "code",
   "execution_count": 1,
   "metadata": {},
   "outputs": [
    {
     "data": {
      "text/plain": [
       "list"
      ]
     },
     "execution_count": 1,
     "metadata": {},
     "output_type": "execute_result"
    }
   ],
   "source": [
    "lista_times = [\"vasco\",\"flamengo\",\"fluminense\",\"sao paulo\"] \n",
    "type(lista_times)"
   ]
  },
  {
   "cell_type": "code",
   "execution_count": 6,
   "metadata": {},
   "outputs": [
    {
     "data": {
      "text/plain": [
       "tuple"
      ]
     },
     "execution_count": 6,
     "metadata": {},
     "output_type": "execute_result"
    }
   ],
   "source": [
    "tupla_times = (\"vasco\",\"flamengo\",\"fluminense\",\"sao paulo\")\n",
    "type(tupla_times)"
   ]
  },
  {
   "cell_type": "code",
   "execution_count": 8,
   "metadata": {},
   "outputs": [
    {
     "data": {
      "text/plain": [
       "set"
      ]
     },
     "execution_count": 8,
     "metadata": {},
     "output_type": "execute_result"
    }
   ],
   "source": [
    "conjunto_times = {\"vasco\",\"flamengo\",\"fluminense\",\"sao paulo\",\"vasco\"}\n",
    "type(conjunto_times)"
   ]
  },
  {
   "cell_type": "code",
   "execution_count": null,
   "metadata": {},
   "outputs": [],
   "source": [
    "#\n",
    "\n",
    "apartamentos = {\n",
    "    \"taguatinga\": 3,\n",
    "    \"brazalânida\": 5,\n",
    "    \"ceilândia\": 2\n",
    "}\n",
    "\n",
    "peint(apartamentos[\"taguatinga\"])\n",
    "\n",
    "apartamentos[\"candangolândia\"]"
   ]
  }
 ],
 "metadata": {
  "kernelspec": {
   "display_name": "Python 3",
   "language": "python",
   "name": "python3"
  },
  "language_info": {
   "codemirror_mode": {
    "name": "ipython",
    "version": 3
   },
   "file_extension": ".py",
   "mimetype": "text/x-python",
   "name": "python",
   "nbconvert_exporter": "python",
   "pygments_lexer": "ipython3",
   "version": "3.12.4"
  }
 },
 "nbformat": 4,
 "nbformat_minor": 2
}
