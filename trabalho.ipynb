{
 "cells": [
  {
   "cell_type": "markdown",
   "metadata": {},
   "source": [
    " Pandas:\n",
    "- O que é?\n",
    "  Pandas é um biblioteca para ciência de dados de código aberto (open source).  Construída sobre a linguagem Python.\n",
    "\n",
    "- Para que serve?\n",
    "  De maneira geral, o Pandas pode ser utilizado para várias atividades e processos, entre eles: \n",
    "  Limpreza e tratamento dos dados (EDA).\n",
    "  Suporte em atividades de Machine Learnig.\n",
    "  Consulta e Quaries em Banco de Dados Relacionais.\n",
    "  Visualização de dados.\n",
    "  Webscraping e muito mais. "
   ]
  },
  {
   "cell_type": "markdown",
   "metadata": {},
   "source": [
    "NumPy:\n",
    "- O que é?\n",
    " É uma biblioteca em Python para computação científica, especialmente para cálculos numéricos em larga escala e manipulação de arrays multidimencionais. \n",
    " O nome NumPy é uma abreviação de \"Numeric Python\" \n",
    " - Para que serve?\n",
    "  NumPy oferece uma ampla gama de funções e operações matemáticas, incluindo funções de álgebra linear, transformandas de Fourier, \n",
    "  geração de números aleatórios, estatísticas  e muito mais.\n",
    "  O módulo também inclui ferramentas para integração com outras linguagens de programação, como C, C++ e Fortran."
   ]
  },
  {
   "cell_type": "markdown",
   "metadata": {},
   "source": [
    "Scikit-Learn:\n",
    "- O que é?\n",
    "  É uma biblioteca da limguagem Python desenvolvida especialmente para aplicações práticas de Machine Learning \n",
    "- Para que serve?\n",
    "  Essa biblioteca dispões de ferramentas simples e eficiente para análise preditiva de dados, é reutilizavel em diferentes situações, possui código aberto,\n",
    "  sendo acessível a todos e foi construída sobre os pacotes NumPy, SciPy e Matplotlib."
   ]
  },
  {
   "cell_type": "markdown",
   "metadata": {},
   "source": [
    "- Como carregar dados no Pandas?"
   ]
  },
  {
   "cell_type": "code",
   "execution_count": null,
   "metadata": {},
   "outputs": [],
   "source": [
    "url = \"A origem dos dados\"\n",
    "pd.read_csv(url) \"O tipo de dados\""
   ]
  },
  {
   "cell_type": "markdown",
   "metadata": {},
   "source": [
    "- Como criar uma DataFrame:\n",
    "  Para criar um DataFrame no Python usando Pandas, primeiro precisa importar a biblioteca. Pode usando o comando Pandas as pd, em seguida \n",
    "  pode criar um DataFrame e a partir de diferentes fontes de dados.  "
   ]
  },
  {
   "cell_type": "code",
   "execution_count": null,
   "metadata": {},
   "outputs": [],
   "source": [
    "import pandas as pd\n",
    "df = read_csv()\n"
   ]
  },
  {
   "cell_type": "markdown",
   "metadata": {},
   "source": [
    "- O que são series?\n",
    "  As series são estruturaas unidimensionais, que contam com diversos métodos para manipulação de dados. Pode-se entender que Series são estruturas\n",
    "  de dados simples, assim como listas padrões da linguagem Python, com uma pequena diferença, os items dentro de uma Serie possuem índice."
   ]
  },
  {
   "cell_type": "markdown",
   "metadata": {},
   "source": [
    "- Como mostrar um Cabeçalho e Rodapé?"
   ]
  },
  {
   "cell_type": "code",
   "execution_count": null,
   "metadata": {},
   "outputs": [],
   "source": [
    "# primeiro crie uma variável df que representa dataframe\n",
    "df = pd.read_csv(url, sep=\";\")\n",
    "# mostre o dataframe com seus primeiros cinco registros (cabeçalho)\n",
    "df.head()\n",
    "# mostrar o final do dataframe\n",
    "df.tail()"
   ]
  },
  {
   "cell_type": "markdown",
   "metadata": {},
   "source": [
    "Como ver a quantiadde de entrada no DataFrame?"
   ]
  },
  {
   "cell_type": "code",
   "execution_count": null,
   "metadata": {},
   "outputs": [],
   "source": [
    "df[df.columns[0]].count()"
   ]
  },
  {
   "cell_type": "markdown",
   "metadata": {},
   "source": [
    "Como retornar o número de linha e colunas de um DF?"
   ]
  },
  {
   "cell_type": "code",
   "execution_count": null,
   "metadata": {},
   "outputs": [],
   "source": [
    "# Quantide de linhas\n",
    "len(df)\n",
    "# Quantidade de Colunas\n",
    "df.columns"
   ]
  },
  {
   "cell_type": "markdown",
   "metadata": {},
   "source": [
    "Crie uma Tabela:"
   ]
  },
  {
   "cell_type": "code",
   "execution_count": 6,
   "metadata": {},
   "outputs": [
    {
     "data": {
      "text/html": [
       "<div>\n",
       "<style scoped>\n",
       "    .dataframe tbody tr th:only-of-type {\n",
       "        vertical-align: middle;\n",
       "    }\n",
       "\n",
       "    .dataframe tbody tr th {\n",
       "        vertical-align: top;\n",
       "    }\n",
       "\n",
       "    .dataframe thead th {\n",
       "        text-align: right;\n",
       "    }\n",
       "</style>\n",
       "<table border=\"1\" class=\"dataframe\">\n",
       "  <thead>\n",
       "    <tr style=\"text-align: right;\">\n",
       "      <th></th>\n",
       "      <th>Categoria</th>\n",
       "      <th>Excel</th>\n",
       "      <th>MySQL</th>\n",
       "      <th>Pandas</th>\n",
       "      <th>Python</th>\n",
       "    </tr>\n",
       "  </thead>\n",
       "  <tbody>\n",
       "    <tr>\n",
       "      <th>0</th>\n",
       "      <td>Números Inteiros</td>\n",
       "      <td>Número Geral (inteiros)</td>\n",
       "      <td>`TINYINT`, `SMALLINT`, `MEDIUMINT`, `INT`, `BI...</td>\n",
       "      <td>`int`</td>\n",
       "      <td>`int`</td>\n",
       "    </tr>\n",
       "    <tr>\n",
       "      <th>1</th>\n",
       "      <td>Números de Ponto Flutuante</td>\n",
       "      <td>Número Geral (decimais)</td>\n",
       "      <td>`FLOAT`, `DOUBLE`</td>\n",
       "      <td>`float`</td>\n",
       "      <td>`float`</td>\n",
       "    </tr>\n",
       "    <tr>\n",
       "      <th>2</th>\n",
       "      <td>Texto</td>\n",
       "      <td>Texto</td>\n",
       "      <td>`CHAR`, `VARCHAR`, `TEXT`, `MEDIUMTEXT`, `LONG...</td>\n",
       "      <td>`object`, `string`</td>\n",
       "      <td>`str`</td>\n",
       "    </tr>\n",
       "    <tr>\n",
       "      <th>3</th>\n",
       "      <td>Data e Hora</td>\n",
       "      <td>Data e Hora</td>\n",
       "      <td>`DATE`, `TIME`, `DATETIME`, `TIMESTAMP`</td>\n",
       "      <td>`datetime64`, `timedelta`</td>\n",
       "      <td>`datetime.date`, `datetime.time`, `datetime.da...</td>\n",
       "    </tr>\n",
       "    <tr>\n",
       "      <th>4</th>\n",
       "      <td>Booleano</td>\n",
       "      <td>Booleano (VERDADEIRO/FALSO)</td>\n",
       "      <td>`BOOLEAN`, `BIT`</td>\n",
       "      <td>`boolean`</td>\n",
       "      <td>`bool`</td>\n",
       "    </tr>\n",
       "    <tr>\n",
       "      <th>5</th>\n",
       "      <td>Dados Binários</td>\n",
       "      <td>Não suportado diretamente</td>\n",
       "      <td>`BLOB`, `MEDIUMBLOB`, `LONGBLOB`</td>\n",
       "      <td>`object` (usando `bytes`)</td>\n",
       "      <td>`bytes`</td>\n",
       "    </tr>\n",
       "    <tr>\n",
       "      <th>6</th>\n",
       "      <td>Estruturas Compostas</td>\n",
       "      <td>Não suportado diretamente</td>\n",
       "      <td>Não aplicável</td>\n",
       "      <td>`DataFrame` (tabelas), `Series` (colunas)</td>\n",
       "      <td>`list`, `tuple`, `set`, `dict`</td>\n",
       "    </tr>\n",
       "  </tbody>\n",
       "</table>\n",
       "</div>"
      ],
      "text/plain": [
       "                    Categoria                        Excel  \\\n",
       "0            Números Inteiros      Número Geral (inteiros)   \n",
       "1  Números de Ponto Flutuante      Número Geral (decimais)   \n",
       "2                       Texto                        Texto   \n",
       "3                 Data e Hora                  Data e Hora   \n",
       "4                    Booleano  Booleano (VERDADEIRO/FALSO)   \n",
       "5              Dados Binários    Não suportado diretamente   \n",
       "6        Estruturas Compostas    Não suportado diretamente   \n",
       "\n",
       "                                               MySQL  \\\n",
       "0  `TINYINT`, `SMALLINT`, `MEDIUMINT`, `INT`, `BI...   \n",
       "1                                  `FLOAT`, `DOUBLE`   \n",
       "2  `CHAR`, `VARCHAR`, `TEXT`, `MEDIUMTEXT`, `LONG...   \n",
       "3            `DATE`, `TIME`, `DATETIME`, `TIMESTAMP`   \n",
       "4                                   `BOOLEAN`, `BIT`   \n",
       "5                   `BLOB`, `MEDIUMBLOB`, `LONGBLOB`   \n",
       "6                                      Não aplicável   \n",
       "\n",
       "                                      Pandas  \\\n",
       "0                                      `int`   \n",
       "1                                    `float`   \n",
       "2                         `object`, `string`   \n",
       "3                  `datetime64`, `timedelta`   \n",
       "4                                  `boolean`   \n",
       "5                  `object` (usando `bytes`)   \n",
       "6  `DataFrame` (tabelas), `Series` (colunas)   \n",
       "\n",
       "                                              Python  \n",
       "0                                              `int`  \n",
       "1                                            `float`  \n",
       "2                                              `str`  \n",
       "3  `datetime.date`, `datetime.time`, `datetime.da...  \n",
       "4                                             `bool`  \n",
       "5                                            `bytes`  \n",
       "6                     `list`, `tuple`, `set`, `dict`  "
      ]
     },
     "execution_count": 6,
     "metadata": {},
     "output_type": "execute_result"
    }
   ],
   "source": [
    "import pandas as pd\n",
    "\n",
    "# Dados da tabela\n",
    "data = {\n",
    "    \"Categoria\": [\n",
    "        \"Números Inteiros\",\n",
    "        \"Números de Ponto Flutuante\",\n",
    "        \"Texto\",\n",
    "        \"Data e Hora\",\n",
    "        \"Booleano\",\n",
    "        \"Dados Binários\",\n",
    "        \"Estruturas Compostas\"\n",
    "    ],\n",
    "    \"Excel\": [\n",
    "        \"Número Geral (inteiros)\",\n",
    "        \"Número Geral (decimais)\",\n",
    "        \"Texto\",\n",
    "        \"Data e Hora\",\n",
    "        \"Booleano (VERDADEIRO/FALSO)\",\n",
    "        \"Não suportado diretamente\",\n",
    "        \"Não suportado diretamente\"\n",
    "    ],\n",
    "    \"MySQL\": [\n",
    "        \"`TINYINT`, `SMALLINT`, `MEDIUMINT`, `INT`, `BIGINT`\",\n",
    "        \"`FLOAT`, `DOUBLE`\",\n",
    "        \"`CHAR`, `VARCHAR`, `TEXT`, `MEDIUMTEXT`, `LONGTEXT`\",\n",
    "        \"`DATE`, `TIME`, `DATETIME`, `TIMESTAMP`\",\n",
    "        \"`BOOLEAN`, `BIT`\",\n",
    "        \"`BLOB`, `MEDIUMBLOB`, `LONGBLOB`\",\n",
    "        \"Não aplicável\"\n",
    "    ],\n",
    "    \"Pandas\": [\n",
    "        \"`int`\",\n",
    "        \"`float`\",\n",
    "        \"`object`, `string`\",\n",
    "        \"`datetime64`, `timedelta`\",\n",
    "        \"`boolean`\",\n",
    "        \"`object` (usando `bytes`)\",\n",
    "        \"`DataFrame` (tabelas), `Series` (colunas)\"\n",
    "    ],\n",
    "    \"Python\": [\n",
    "        \"`int`\",\n",
    "        \"`float`\",\n",
    "        \"`str`\",\n",
    "        \"`datetime.date`, `datetime.time`, `datetime.datetime`, `datetime.timedelta`\",\n",
    "        \"`bool`\",\n",
    "        \"`bytes`\",\n",
    "        \"`list`, `tuple`, `set`, `dict`\"\n",
    "    ]\n",
    "}\n",
    "\n",
    "# Criar DataFrame\n",
    "df = pd.DataFrame(data)\n",
    "\n",
    "# Exibir tabela\n",
    "df\n"
   ]
  },
  {
   "cell_type": "markdown",
   "metadata": {},
   "source": [
    "Como examinar tipos no Pandas?"
   ]
  },
  {
   "cell_type": "code",
   "execution_count": null,
   "metadata": {},
   "outputs": [],
   "source": [
    "df.dtypes"
   ]
  },
  {
   "cell_type": "markdown",
   "metadata": {},
   "source": [
    "- Explique sobre o Describe:\n",
    "  Ela fornece informações importantes sobre a distribuiçao dos dados, permitindo insights valiosos em necessidade de visualizações complexas."
   ]
  },
  {
   "cell_type": "markdown",
   "metadata": {},
   "source": [
    "- Como acesar apenas uma colouna?"
   ]
  },
  {
   "cell_type": "code",
   "execution_count": null,
   "metadata": {},
   "outputs": [],
   "source": [
    "df.columns"
   ]
  },
  {
   "cell_type": "markdown",
   "metadata": {},
   "source": [
    "- O que é IA?\n",
    "  InteligÊncia Artificial é um campo de estudo multidiciplinar que abrange varias áreas do conhecimento. É também um conjunto de novas tecnologias\n",
    "  quem permitem aos aparelhos smart executarem varias funções avançadas  de modo quase autônomos, representando um marco histórico na computação modernda. "
   ]
  },
  {
   "cell_type": "markdown",
   "metadata": {},
   "source": [
    "- O que é Machine Learning?\n",
    "  O aprendizado de máquina (em inglês, machine learning) é um método de análise de dados que automatiza a construção de modelos analíticos.\n",
    "  É um ramo da inteligência artificial baseado na ideia de que sistemas podem aprender com dados, identificar padrões e tomar decisões com o mínimo de intervenção humana."
   ]
  },
  {
   "cell_type": "markdown",
   "metadata": {},
   "source": [
    "- O que é deep learning?\n",
    "  A aprendizagem profunda, do inglês Deep Learning é um ramo de aprendizado de máquina baseado em um conjunto de algoritmos que tentam \n",
    "modelar abstrações de alto nível de dados usando um grafo profundo com várias camadas de processamento, compostas de várias transformações lineares e não lineares"
   ]
  },
  {
   "cell_type": "markdown",
   "metadata": {},
   "source": [
    "- Quais os problemas a ia pode resolver?\n",
    "  A IA pode trazer benefícios e oportunidades para diversas áreas e setores, como educação, saúde, segurança, entretenimento, entre outras. \n",
    "No entanto, também pode trazer riscos e ameaças, como desemprego, desigualdade e violência\n"
   ]
  },
  {
   "cell_type": "markdown",
   "metadata": {},
   "source": [
    "- Funções loc()\n",
    "  A função loc é utilizada para selecionar e filtrar dados em um DataFrame com base em rótulos de linhas e colunas, oferecendo uma maneira \n",
    "  eficaz de acessar informações específicas de um conjunto de dados. Neste artigo, exploraremos em detalhes a função loc , \n",
    "  seu uso e forneceremos diversos exemplos de filtragem.\n",
    "- função iloc() \n",
    "  O iloc é uma poderosa função da biblioteca pandas do Python, que permite a manipulação de dados de forma eficiente e flexível. Nesta seção, exploraremos os primeiros passos para utilizar o iloc no Python e começar a aproveitar seus recursos."
   ]
  },
  {
   "cell_type": "code",
   "execution_count": null,
   "metadata": {},
   "outputs": [],
   "source": [
    "tabela = pd.read_csv(\"\")\n",
    "\n",
    "display(tabela)"
   ]
  }
 ],
 "metadata": {
  "kernelspec": {
   "display_name": ".venv",
   "language": "python",
   "name": "python3"
  },
  "language_info": {
   "codemirror_mode": {
    "name": "ipython",
    "version": 3
   },
   "file_extension": ".py",
   "mimetype": "text/x-python",
   "name": "python",
   "nbconvert_exporter": "python",
   "pygments_lexer": "ipython3",
   "version": "3.12.5"
  }
 },
 "nbformat": 4,
 "nbformat_minor": 2
}
