{
 "cells": [
  {
   "cell_type": "code",
   "execution_count": 1,
   "metadata": {},
   "outputs": [
    {
     "name": "stderr",
     "output_type": "stream",
     "text": [
      "ERROR: Could not find a version that satisfies the requirement sqlchemy (from versions: none)\n",
      "ERROR: No matching distribution found for sqlchemy\n"
     ]
    }
   ],
   "source": [
    "! pip install sqlchemy"
   ]
  },
  {
   "cell_type": "code",
   "execution_count": null,
   "metadata": {},
   "outputs": [],
   "source": [
    "# passo 1 - variaveis para credenciais \n",
    "user = 'root'\n",
    "password = 'senai@123'\n",
    "host = 'localhost'\n",
    "database = 'projetodiario1'\n",
    "\n",
    "# passo 2 - url de conexâo\n",
    "\n",
    "#passo 3 - create_engine do SQLALchemy (cenectar)\n",
    "#passo 4 - consulta de alunos\n",
    "#passo 5 - criar um dataframe no pandas\n",
    " #pd.read_sql(query)\n",
    "#passo 6 - mostar os cinco primeiros"
   ]
  }
 ],
 "metadata": {
  "kernelspec": {
   "display_name": "Python 3",
   "language": "python",
   "name": "python3"
  },
  "language_info": {
   "codemirror_mode": {
    "name": "ipython",
    "version": 3
   },
   "file_extension": ".py",
   "mimetype": "text/x-python",
   "name": "python",
   "nbconvert_exporter": "python",
   "pygments_lexer": "ipython3",
   "version": "3.12.4"
  }
 },
 "nbformat": 4,
 "nbformat_minor": 2
}
